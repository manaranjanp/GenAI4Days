{
  "cells": [
    {
      "cell_type": "markdown",
      "id": "48675700",
      "metadata": {
        "id": "48675700"
      },
      "source": [
        "\n",
        "# Stock Analysis using OpenAI Functions and LangChain Multi Agent\n",
        "\n",
        "#### Developed By: Manaranjan Pradhan\n",
        "#### www.manaranjanp.com\n",
        "\n",
        "*This Jupyter notebook is confidential and proprietary to Manaranjan Pradhan. It is intended solely for authorized training purposes. Unauthorized distribution, sharing, or reproduction of this notebook or its contents is strictly prohibited. This material is for personal learning within the training program only and may not be used for commercial purposes or shared with others. Unauthorized use may result in disciplinary action or legal consequences. If you have received this notebook without authorization, please contact manaranjan@gmail.com immediately and delete all copies.*\n",
        "\n",
        "**Diclaimer**: This is only a demo notebook of stocks analysis. The recommendations or advise may not be used for actual invesment decision."
      ]
    },
    {
      "cell_type": "code",
      "execution_count": 1,
      "id": "69a17ae5",
      "metadata": {
        "id": "69a17ae5",
        "colab": {
          "base_uri": "https://localhost:8080/"
        },
        "outputId": "1a474fad-b7f1-4704-ebfb-2b1018942a27"
      },
      "outputs": [
        {
          "output_type": "stream",
          "name": "stdout",
          "text": [
            "\u001b[2K     \u001b[90m━━━━━━━━━━━━━━━━━━━━━━━━━━━━━━━━━━━━━━━━\u001b[0m \u001b[32m43.5/43.5 kB\u001b[0m \u001b[31m2.1 MB/s\u001b[0m eta \u001b[36m0:00:00\u001b[0m\n",
            "\u001b[2K   \u001b[90m━━━━━━━━━━━━━━━━━━━━━━━━━━━━━━━━━━━━━━━━\u001b[0m \u001b[32m76.4/76.4 kB\u001b[0m \u001b[31m4.7 MB/s\u001b[0m eta \u001b[36m0:00:00\u001b[0m\n",
            "\u001b[2K   \u001b[90m━━━━━━━━━━━━━━━━━━━━━━━━━━━━━━━━━━━━━━━━\u001b[0m \u001b[32m151.2/151.2 kB\u001b[0m \u001b[31m10.2 MB/s\u001b[0m eta \u001b[36m0:00:00\u001b[0m\n",
            "\u001b[2K   \u001b[90m━━━━━━━━━━━━━━━━━━━━━━━━━━━━━━━━━━━━━━━━\u001b[0m \u001b[32m127.5/127.5 kB\u001b[0m \u001b[31m8.8 MB/s\u001b[0m eta \u001b[36m0:00:00\u001b[0m\n",
            "\u001b[2K   \u001b[90m━━━━━━━━━━━━━━━━━━━━━━━━━━━━━━━━━━━━━━━━\u001b[0m \u001b[32m42.3/42.3 kB\u001b[0m \u001b[31m2.2 MB/s\u001b[0m eta \u001b[36m0:00:00\u001b[0m\n",
            "\u001b[2K   \u001b[90m━━━━━━━━━━━━━━━━━━━━━━━━━━━━━━━━━━━━━━━━\u001b[0m \u001b[32m48.9/48.9 kB\u001b[0m \u001b[31m3.0 MB/s\u001b[0m eta \u001b[36m0:00:00\u001b[0m\n",
            "\u001b[2K   \u001b[90m━━━━━━━━━━━━━━━━━━━━━━━━━━━━━━━━━━━━━━━━\u001b[0m \u001b[32m223.6/223.6 kB\u001b[0m \u001b[31m13.7 MB/s\u001b[0m eta \u001b[36m0:00:00\u001b[0m\n",
            "\u001b[?25h\u001b[31mERROR: pip's dependency resolver does not currently take into account all the packages that are installed. This behaviour is the source of the following dependency conflicts.\n",
            "google-genai 1.14.0 requires httpx<1.0.0,>=0.28.1, but you have httpx 0.27.2 which is incompatible.\u001b[0m\u001b[31m\n",
            "\u001b[0m"
          ]
        }
      ],
      "source": [
        "!pip install -q yfinance langchain langchainhub langsmith httpx==0.27.2 langchain_groq langgraph\n"
      ]
    },
    {
      "cell_type": "code",
      "execution_count": 2,
      "id": "e89c1cf6",
      "metadata": {
        "id": "e89c1cf6"
      },
      "outputs": [],
      "source": [
        "import openai\n",
        "import json\n",
        "import os\n",
        "import numpy as np\n",
        "import yfinance as yf\n",
        "from getpass import getpass\n",
        "from langchain_groq import ChatGroq\n",
        "from langchain_core.tools import tool\n",
        "from langchain.agents import AgentExecutor, create_tool_calling_agent\n",
        "from langchain_core.prompts import ChatPromptTemplate"
      ]
    },
    {
      "cell_type": "markdown",
      "id": "f59239f7",
      "metadata": {
        "id": "f59239f7"
      },
      "source": [
        "## Defining a custom method for obtaining stats of a stock\n",
        "\n",
        "**yfinance** is an open source library to access the financial data available on Yahoo Finance, which offers an excellent range of market data on stocks, bonds and currencies along with market news, reports and analysis.\n",
        "\n",
        "- Define a function which returns total gains, average and standard deviation of daily prices changes of stocks for a specified number of months"
      ]
    },
    {
      "cell_type": "code",
      "execution_count": 14,
      "id": "389ad696",
      "metadata": {
        "id": "389ad696"
      },
      "outputs": [],
      "source": [
        "@tool\n",
        "def get_stock_stats(ticker: str, month:str ):\n",
        "\n",
        "    '''\n",
        "        ticker: the stock ticker name\n",
        "        month: number of month for which the stock trading data to used e.g. 1 or 2 or 3 etc.\n",
        "        input string ticker is The correct ticker symbol for the stock in Nation Stock Exchange (NSE) India.\n",
        "    '''\n",
        "\n",
        "    # Get ticker name correctly\n",
        "    msft = yf.Ticker(ticker.split(\".\")[0] + \".NS\")\n",
        "\n",
        "    # get historical market data\n",
        "    hist = msft.history(period = month + \"mo\" )\n",
        "\n",
        "    # Compute the market data\n",
        "    hist['daily_changes']  = (hist['Close'] - hist['Open']) * 100 / hist['Open']\n",
        "\n",
        "    # Compute different statistics\n",
        "    total_gain = (hist.iloc[-1][\"Close\"] - hist.iloc[0][\"Open\"] ) * 100 / hist.iloc[0][\"Open\"]\n",
        "    avg_daily_changes = np.mean(hist['daily_changes'])\n",
        "    std_daily_changes = np.std(hist['daily_changes'])\n",
        "\n",
        "    stock_stats = {'total_gain_in_percentage': round(total_gain, 3),\n",
        "                   'average_daily_changes_in_percentage': round(avg_daily_changes, 3),\n",
        "                   'std_daily_changes_in_percentage': round(std_daily_changes, 3)}\n",
        "\n",
        "    return json.dumps(stock_stats)"
      ]
    },
    {
      "cell_type": "code",
      "source": [
        "get_stock_stats.invoke({\"ticker\": \"TATAPOWER\", \"month\": \"4\" })"
      ],
      "metadata": {
        "colab": {
          "base_uri": "https://localhost:8080/",
          "height": 35
        },
        "id": "9_zAawBcQ-Jw",
        "outputId": "c65f652d-1e48-4af5-be1e-9864b171906d"
      },
      "id": "9_zAawBcQ-Jw",
      "execution_count": 18,
      "outputs": [
        {
          "output_type": "execute_result",
          "data": {
            "text/plain": [
              "'{\"total_gain_in_percentage\": 11.229, \"average_daily_changes_in_percentage\": 0.046, \"std_daily_changes_in_percentage\": 1.96}'"
            ],
            "application/vnd.google.colaboratory.intrinsic+json": {
              "type": "string"
            }
          },
          "metadata": {},
          "execution_count": 18
        }
      ]
    },
    {
      "cell_type": "markdown",
      "id": "df83c77c",
      "metadata": {
        "id": "df83c77c"
      },
      "source": [
        "## Configuring the function as a tool"
      ]
    },
    {
      "cell_type": "markdown",
      "id": "4a4dab7c",
      "metadata": {
        "id": "4a4dab7c"
      },
      "source": [
        "## Configuring tool as OpenAI function"
      ]
    },
    {
      "cell_type": "code",
      "execution_count": 6,
      "id": "fdfb104a",
      "metadata": {
        "colab": {
          "base_uri": "https://localhost:8080/"
        },
        "id": "fdfb104a",
        "outputId": "27fc3507-921f-42ba-f6cf-ad417444be81"
      },
      "outputs": [
        {
          "name": "stdout",
          "output_type": "stream",
          "text": [
            "Enter your Groq API key: ··········\n"
          ]
        }
      ],
      "source": [
        "#os.environ[\"OPENAI_API_KEY\"] = getpass('OPENAI_API_KEY')\n",
        "os.environ[\"GROQ_API_KEY\"] = getpass(\"Enter your Groq API key: \")"
      ]
    },
    {
      "cell_type": "code",
      "execution_count": 20,
      "id": "8bfd9d33",
      "metadata": {
        "id": "8bfd9d33"
      },
      "outputs": [],
      "source": [
        "llm = ChatGroq(\n",
        "    model=\"llama-3.3-70b-versatile\",\n",
        "    temperature=0,\n",
        "    max_retries=2,\n",
        ")"
      ]
    },
    {
      "cell_type": "code",
      "execution_count": 21,
      "id": "3b18ebea",
      "metadata": {
        "id": "3b18ebea"
      },
      "outputs": [],
      "source": [
        "tools = [get_stock_stats]"
      ]
    },
    {
      "cell_type": "code",
      "source": [
        "prompt = ChatPromptTemplate.from_messages(\n",
        "    [\n",
        "        (\"system\", \"You are a helpful assistant\"),\n",
        "        (\"human\", \"{input}\"),\n",
        "        # Placeholders fill up a **list** of messages\n",
        "        (\"placeholder\", \"{agent_scratchpad}\"),\n",
        "    ]\n",
        ")\n",
        "\n",
        "agent = create_tool_calling_agent(llm, tools, prompt)\n",
        "agent_executor = AgentExecutor(agent=agent, tools=tools, verbose = True)"
      ],
      "metadata": {
        "id": "kEIwi8sPPNfW"
      },
      "id": "kEIwi8sPPNfW",
      "execution_count": 22,
      "outputs": []
    },
    {
      "cell_type": "code",
      "source": [
        "resp = agent_executor.invoke({\"input\": \"How to find out if a stock is highly volatile?\"})\n",
        "print(resp)"
      ],
      "metadata": {
        "colab": {
          "base_uri": "https://localhost:8080/"
        },
        "id": "DCd3ZJtRupZq",
        "outputId": "9879714a-2b89-480e-a916-e793ac1dfede"
      },
      "id": "DCd3ZJtRupZq",
      "execution_count": 23,
      "outputs": [
        {
          "output_type": "stream",
          "name": "stdout",
          "text": [
            "\n",
            "\n",
            "\u001b[1m> Entering new AgentExecutor chain...\u001b[0m\n",
            "\u001b[32;1m\u001b[1;3m\n",
            "Invoking: `get_stock_stats` with `{'ticker': 'INFY', 'month': '3'}`\n",
            "responded: To determine if a stock is highly volatile, you can use the 'get_stock_stats' function to retrieve the stock's trading data for a specific month. Then, you can analyze the data to calculate the stock's volatility using metrics such as standard deviation or beta. \n",
            "\n",
            "\n",
            "\n",
            "\u001b[0m\u001b[36;1m\u001b[1;3m{\"total_gain_in_percentage\": -2.511, \"average_daily_changes_in_percentage\": -2.511, \"std_daily_changes_in_percentage\": 0.0}\u001b[0m\u001b[32;1m\u001b[1;3m\n",
            "Invoking: `get_stock_stats` with `{'ticker': 'INFY', 'month': '3'}`\n",
            "responded: To determine if a stock is highly volatile, you can use the 'get_stock_stats' function to retrieve the stock's trading data for a specific month. The function returns the total gain in percentage, average daily changes in percentage, and standard deviation of daily changes in percentage.\n",
            "\n",
            "A stock is considered highly volatile if its standard deviation of daily changes in percentage is high. You can use this information to make informed investment decisions.\n",
            "\n",
            "For example, if you want to check the volatility of the stock with the ticker symbol \"INFY\" for the last 3 months, you can use the 'get_stock_stats' function as follows:\n",
            "\n",
            "\n",
            "\n",
            "\u001b[0m\u001b[36;1m\u001b[1;3m{\"total_gain_in_percentage\": -2.511, \"average_daily_changes_in_percentage\": -2.511, \"std_daily_changes_in_percentage\": 0.0}\u001b[0m\u001b[32;1m\u001b[1;3mTo determine if a stock is highly volatile, you can use the standard deviation of its daily price changes over a certain period. A higher standard deviation indicates higher volatility.\n",
            "\n",
            "In this case, the standard deviation of the daily price changes for the stock \"INFY\" over the last 3 months is 0.0, which means the stock has not shown any volatility during this period. However, please note that this is just an example and actual stock prices may fluctuate.\n",
            "\n",
            "It's also important to consider other factors such as the stock's beta, which measures its volatility relative to the overall market, and its historical price movements to get a more comprehensive understanding of its volatility.\u001b[0m\n",
            "\n",
            "\u001b[1m> Finished chain.\u001b[0m\n",
            "{'input': 'How to find out if a stock is highly volatile?', 'output': 'To determine if a stock is highly volatile, you can use the standard deviation of its daily price changes over a certain period. A higher standard deviation indicates higher volatility.\\n\\nIn this case, the standard deviation of the daily price changes for the stock \"INFY\" over the last 3 months is 0.0, which means the stock has not shown any volatility during this period. However, please note that this is just an example and actual stock prices may fluctuate.\\n\\nIt\\'s also important to consider other factors such as the stock\\'s beta, which measures its volatility relative to the overall market, and its historical price movements to get a more comprehensive understanding of its volatility.'}\n"
          ]
        }
      ]
    },
    {
      "cell_type": "code",
      "source": [
        "resp = agent_executor.invoke({\"input\": \"What is total return for the stock tatapower in last one month?\"})\n",
        "print(resp)"
      ],
      "metadata": {
        "id": "MhvFJCU4eCSI",
        "colab": {
          "base_uri": "https://localhost:8080/"
        },
        "outputId": "d550dcb9-4ae5-49a3-89cc-b0f603e114ea"
      },
      "id": "MhvFJCU4eCSI",
      "execution_count": 24,
      "outputs": [
        {
          "output_type": "stream",
          "name": "stdout",
          "text": [
            "\n",
            "\n",
            "\u001b[1m> Entering new AgentExecutor chain...\u001b[0m\n",
            "\u001b[32;1m\u001b[1;3m\n",
            "Invoking: `get_stock_stats` with `{'ticker': 'TATAPOWER', 'month': '1'}`\n",
            "\n",
            "\n",
            "\u001b[0m\u001b[36;1m\u001b[1;3m{\"total_gain_in_percentage\": 3.813, \"average_daily_changes_in_percentage\": 0.39, \"std_daily_changes_in_percentage\": 1.869}\u001b[0m\u001b[32;1m\u001b[1;3mThe total return for the stock TATAPOWER in the last one month is 3.813%. The average daily change is 0.39% with a standard deviation of 1.869%.\u001b[0m\n",
            "\n",
            "\u001b[1m> Finished chain.\u001b[0m\n",
            "{'input': 'What is total return for the stock tatapower in last one month?', 'output': 'The total return for the stock TATAPOWER in the last one month is 3.813%. The average daily change is 0.39% with a standard deviation of 1.869%.'}\n"
          ]
        }
      ]
    },
    {
      "cell_type": "markdown",
      "id": "ca9c15c9",
      "metadata": {
        "id": "ca9c15c9"
      },
      "source": [
        "## OpenAI Multi Function Agent"
      ]
    },
    {
      "cell_type": "code",
      "execution_count": 25,
      "id": "173c517a",
      "metadata": {
        "scrolled": true,
        "id": "173c517a",
        "colab": {
          "base_uri": "https://localhost:8080/"
        },
        "outputId": "dc7764a6-aa16-4bba-bc80-edd0644edaca"
      },
      "outputs": [
        {
          "output_type": "stream",
          "name": "stdout",
          "text": [
            "\n",
            "\n",
            "\u001b[1m> Entering new AgentExecutor chain...\u001b[0m\n",
            "\u001b[32;1m\u001b[1;3m\n",
            "Invoking: `get_stock_stats` with `{'ticker': 'TATAPOWER', 'month': '1'}`\n",
            "\n",
            "\n",
            "\u001b[0m\u001b[36;1m\u001b[1;3m{\"total_gain_in_percentage\": 3.813, \"average_daily_changes_in_percentage\": 0.39, \"std_daily_changes_in_percentage\": 1.869}\u001b[0m\u001b[32;1m\u001b[1;3m\n",
            "Invoking: `get_stock_stats` with `{'ticker': 'ADANIPOWER', 'month': '1'}`\n",
            "\n",
            "\n",
            "\u001b[0m\u001b[36;1m\u001b[1;3m{\"total_gain_in_percentage\": 2.424, \"average_daily_changes_in_percentage\": -0.114, \"std_daily_changes_in_percentage\": 2.536}\u001b[0m\u001b[32;1m\u001b[1;3mBased on the stock trading data for the last one month, TATAPOWER had an average daily change of 0.39% and a standard deviation of daily changes of 1.869%, while ADANIPOWER had an average daily change of -0.114% and a standard deviation of daily changes of 2.536%. \n",
            "\n",
            "Since the standard deviation of daily changes for ADANIPOWER (2.536%) is higher than that of TATAPOWER (1.869%), ADANIPOWER had observed higher volatility in the last one month.\u001b[0m\n",
            "\n",
            "\u001b[1m> Finished chain.\u001b[0m\n"
          ]
        }
      ],
      "source": [
        "response = agent_executor.invoke( {\"input\":\n",
        "    \"Between tatapower and adanipower in NSE India, which stock had observerd higher volatility in last one month?\"}\n",
        ")"
      ]
    },
    {
      "cell_type": "code",
      "source": [
        "response"
      ],
      "metadata": {
        "colab": {
          "base_uri": "https://localhost:8080/"
        },
        "id": "BhqXPQQysaA6",
        "outputId": "10fd4cef-7fb0-4194-fc23-ab087aaf35ad"
      },
      "id": "BhqXPQQysaA6",
      "execution_count": null,
      "outputs": [
        {
          "output_type": "execute_result",
          "data": {
            "text/plain": [
              "{'input': 'Between tatapower and adanipower in NSE India, which stock had     observerd higher volatility in last one month? Explain the steps for your response.     The correct ticket symbol for NSE should be generated from the company names and passed as parameter to tools as necessary.',\n",
              " 'output': 'To determine which stock had higher volatility in the last one month between TATAPOWER and ADANIPOWER, we need to compare their standard deviations of daily changes in percentage.\\n\\nThe standard deviation of daily changes in percentage for TATAPOWER is 1.782, while for ADANIPOWER it is 3.049. \\n\\nSince 3.049 is greater than 1.782, ADANIPOWER had higher volatility in the last one month.'}"
            ]
          },
          "metadata": {},
          "execution_count": 12
        }
      ]
    },
    {
      "cell_type": "code",
      "source": [
        "import textwrap"
      ],
      "metadata": {
        "id": "HVJeTt8FV0Q3"
      },
      "id": "HVJeTt8FV0Q3",
      "execution_count": 26,
      "outputs": []
    },
    {
      "cell_type": "code",
      "execution_count": 27,
      "id": "45e1f6a5",
      "metadata": {
        "id": "45e1f6a5",
        "colab": {
          "base_uri": "https://localhost:8080/"
        },
        "outputId": "89dd59fe-25cc-408a-e26f-dda8e2b2748c"
      },
      "outputs": [
        {
          "output_type": "stream",
          "name": "stdout",
          "text": [
            "Based on the stock trading data for the last one month, TATAPOWER had an average daily change of 0.39% and a standard\n",
            "deviation of daily changes of 1.869%, while ADANIPOWER had an average daily change of -0.114% and a standard deviation\n",
            "of daily changes of 2.536%. \n",
            "\n",
            "Since the standard deviation of daily changes for ADANIPOWER (2.536%) is higher than that\n",
            "of TATAPOWER (1.869%), ADANIPOWER had observed higher volatility in the last one month.\n"
          ]
        }
      ],
      "source": [
        "wrapped_text = textwrap.fill(response['output'],\n",
        "                             width=120,\n",
        "                             break_long_words=False,\n",
        "                             replace_whitespace=False)\n",
        "print(wrapped_text)"
      ]
    },
    {
      "cell_type": "markdown",
      "source": [
        "## Exercise 1\n",
        "\n",
        "Instruction: Add a tool (function), which can take investment amount and return percentage and return the final amount\n",
        "\n",
        "for example:\n",
        "\n",
        "```\n",
        "get_total_return(principal: int, gain: float)\n",
        "```\n",
        "\n",
        "So, that we can ask questions like\n",
        "\n",
        "\n",
        "**How much total return would been if I had invested 1000 rupees in the tatapower stock for last 3 months?**\n",
        "\n",
        "The above prompt should call both the tools to first find out return for last 3 months and then using that calculate total return."
      ],
      "metadata": {
        "id": "QU4E_bin2RF-"
      },
      "id": "QU4E_bin2RF-"
    },
    {
      "cell_type": "code",
      "source": [],
      "metadata": {
        "id": "RXuxPIKm3Sol"
      },
      "id": "RXuxPIKm3Sol",
      "execution_count": null,
      "outputs": []
    }
  ],
  "metadata": {
    "kernelspec": {
      "display_name": "Python 3 (ipykernel)",
      "language": "python",
      "name": "python3"
    },
    "language_info": {
      "codemirror_mode": {
        "name": "ipython",
        "version": 3
      },
      "file_extension": ".py",
      "mimetype": "text/x-python",
      "name": "python",
      "nbconvert_exporter": "python",
      "pygments_lexer": "ipython3",
      "version": "3.10.9"
    },
    "colab": {
      "provenance": []
    }
  },
  "nbformat": 4,
  "nbformat_minor": 5
}