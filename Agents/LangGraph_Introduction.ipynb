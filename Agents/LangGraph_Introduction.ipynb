{
  "nbformat": 4,
  "nbformat_minor": 0,
  "metadata": {
    "colab": {
      "provenance": []
    },
    "kernelspec": {
      "name": "python3",
      "display_name": "Python 3"
    },
    "language_info": {
      "name": "python"
    }
  },
  "cells": [
    {
      "cell_type": "code",
      "execution_count": 1,
      "metadata": {
        "id": "fVKvKniobFHy"
      },
      "outputs": [],
      "source": [
        "%%capture --no-stderr\n",
        "%pip install -U langgraph langsmith langchain-groq langchain-community\n",
        "#%pip langchain-anthropic\n",
        "#%pip langchain-openai"
      ]
    },
    {
      "cell_type": "code",
      "source": [
        "import getpass\n",
        "import os\n",
        "from pprint import pprint\n",
        "from google.colab import userdata\n",
        "from getpass import getpass"
      ],
      "metadata": {
        "id": "QyquLTRYbaSW"
      },
      "execution_count": 3,
      "outputs": []
    },
    {
      "cell_type": "code",
      "source": [
        "os.environ['GROQ_API_KEY'] = getpass(\"GROQ_API_KEY\")"
      ],
      "metadata": {
        "id": "-_XjV8uPdrDB",
        "colab": {
          "base_uri": "https://localhost:8080/"
        },
        "outputId": "7f776359-f599-4896-cc7e-0e01891214e4"
      },
      "execution_count": 4,
      "outputs": [
        {
          "name": "stdout",
          "output_type": "stream",
          "text": [
            "GROQ_API_KEY··········\n"
          ]
        }
      ]
    },
    {
      "cell_type": "markdown",
      "source": [
        "## Build a Basic Chatbot"
      ],
      "metadata": {
        "id": "DnSsPJv0b5c9"
      }
    },
    {
      "cell_type": "code",
      "source": [
        "from typing import Annotated\n",
        "\n",
        "from typing_extensions import TypedDict\n",
        "\n",
        "from langgraph.graph import StateGraph, START, END\n",
        "from langgraph.graph.message import add_messages\n",
        "\n",
        "\n",
        "class State(TypedDict):\n",
        "    # Messages have the type \"list\". The `add_messages` function\n",
        "    # in the annotation defines how this state key should be updated\n",
        "    # (in this case, it appends messages to the list, rather than overwriting them)\n",
        "    messages: Annotated[list, add_messages]\n",
        "\n",
        "\n",
        "graph_builder = StateGraph(State)"
      ],
      "metadata": {
        "id": "M8z9XGiJbjak"
      },
      "execution_count": 12,
      "outputs": []
    },
    {
      "cell_type": "code",
      "source": [
        "from langchain_groq import ChatGroq\n",
        "\n",
        "llm = ChatGroq(model=\"gemma2-9b-it\",\n",
        "               temperature=0,\n",
        "               max_tokens=256,\n",
        "               max_retries=2)\n",
        "\n",
        "def chatbot(state: State):\n",
        "    return {\"messages\": [llm.invoke(state[\"messages\"])]}\n",
        "\n",
        "\n",
        "# The first argument is the unique node name\n",
        "# The second argument is the function or object that will be called whenever\n",
        "# the node is used.\n",
        "graph_builder.add_node(\"chatbot\", chatbot)"
      ],
      "metadata": {
        "colab": {
          "base_uri": "https://localhost:8080/"
        },
        "id": "RpALZiFbb7aq",
        "outputId": "367adce7-f1b4-4fcf-a0a8-06be4e6dd455"
      },
      "execution_count": 13,
      "outputs": [
        {
          "output_type": "execute_result",
          "data": {
            "text/plain": [
              "<langgraph.graph.state.StateGraph at 0x7c4ce3f6e850>"
            ]
          },
          "metadata": {},
          "execution_count": 13
        }
      ]
    },
    {
      "cell_type": "code",
      "source": [
        "graph_builder.add_edge(START, \"chatbot\")\n",
        "graph_builder.add_edge(\"chatbot\", END)\n",
        "graph = graph_builder.compile()"
      ],
      "metadata": {
        "id": "AeX0twOlcYEM"
      },
      "execution_count": 14,
      "outputs": []
    },
    {
      "cell_type": "code",
      "source": [
        "from IPython.display import Image, display\n",
        "\n",
        "try:\n",
        "    display(Image(graph.get_graph().draw_mermaid_png()))\n",
        "except Exception:\n",
        "    # This requires some extra dependencies and is optional\n",
        "    pass"
      ],
      "metadata": {
        "colab": {
          "base_uri": "https://localhost:8080/",
          "height": 251
        },
        "id": "kQqgYN_0cp80",
        "outputId": "f2541120-8d8e-4d8c-ce99-1d8567e62501"
      },
      "execution_count": 15,
      "outputs": [
        {
          "output_type": "display_data",
          "data": {
            "image/png": "[encoded data removed]",
            "text/plain": [
              "<IPython.core.display.Image object>"
            ]
          },
          "metadata": {}
        }
      ]
    },
    {
      "cell_type": "code",
      "source": [
        "response = graph.invoke({\"messages\": [{\"role\": \"user\", \"content\": \"What is agentic ai?\"}]})"
      ],
      "metadata": {
        "id": "Q59CuFYAexTJ"
      },
      "execution_count": 16,
      "outputs": []
    },
    {
      "cell_type": "code",
      "source": [
        "response['messages'][-1].content"
      ],
      "metadata": {
        "colab": {
          "base_uri": "https://localhost:8080/",
          "height": 105
        },
        "id": "tOMYXWuDfBmh",
        "outputId": "4317bb8e-4ec9-464a-8216-4f06483b8b13"
      },
      "execution_count": 17,
      "outputs": [
        {
          "output_type": "execute_result",
          "data": {
            "text/plain": [
              "\"Agentic AI refers to a type of artificial intelligence that is designed to be **autonomous and goal-oriented**. \\n\\nHere's a breakdown:\\n\\n**Autonomous:** Agentic AI systems can operate independently, making decisions and taking actions without constant human intervention. They have the ability to perceive their environment, interpret information, and plan and execute actions to achieve their goals.\\n\\n**Goal-Oriented:** Agentic AI is driven by specific objectives. These goals can be pre-defined by humans or learned through interaction with the environment. The AI system will strive to achieve these goals through its actions.\\n\\n**Key Characteristics of Agentic AI:**\\n\\n* **Goal Recognition:** The ability to identify and understand the desired outcomes.\\n* **Planning:** Developing a sequence of actions to achieve the goals.\\n* **Action Execution:** Carrying out the planned actions in the real or simulated world.\\n* **Learning and Adaptation:**  The capacity to learn from experiences and adjust its behavior to achieve better results.\\n* **Reactivity:** Responding to changes in the environment and adapting its plans accordingly.\\n\\n**Examples of Agentic AI:**\\n\\n* **Self-driving cars:** They perceive their surroundings, plan routes, and make decisions to navigate safely.\\n* **Robotics:** Robots in manufacturing\""
            ],
            "application/vnd.google.colaboratory.intrinsic+json": {
              "type": "string"
            }
          },
          "metadata": {},
          "execution_count": 17
        }
      ]
    },
    {
      "cell_type": "code",
      "source": [
        "while True:\n",
        "    try:\n",
        "        user_input = input(\"User: \")\n",
        "        if user_input.lower() in [\"quit\", \"exit\", \"q\"]:\n",
        "            print(\"Goodbye!\")\n",
        "            break\n",
        "\n",
        "        response = graph.invoke({\"messages\": [{\"role\": \"user\", \"content\": user_input}]})\n",
        "        print(\"Assistant:\", response['messages'][-1].content)\n",
        "#        print(\"Assistant:\", response['messages'])\n",
        "\n",
        "    except:\n",
        "        break"
      ],
      "metadata": {
        "colab": {
          "base_uri": "https://localhost:8080/"
        },
        "id": "Y3D5OkZ-dCKK",
        "outputId": "26a1c665-2805-45df-b8b0-14cd91344e22"
      },
      "execution_count": 18,
      "outputs": [
        {
          "output_type": "stream",
          "name": "stdout",
          "text": [
            "User: what is rag\n",
            "Assistant: \"Rag\" can refer to several things, so to give you the best answer, I need more context! \n",
            "\n",
            "Could you please tell me what kind of rag you're interested in? For example, are you asking about:\n",
            "\n",
            "* **A piece of cloth:** This is the most common meaning of \"rag.\" It could be a torn piece of fabric used for cleaning, or a piece of cloth used in a specific craft or activity.\n",
            "* **Ragtime music:** This is a genre of music that originated in the late 19th century and is characterized by its syncopated rhythms.\n",
            "* **A derogatory term:** \"Rag\" can sometimes be used as a derogatory term for a person or thing that is considered worthless or inferior.\n",
            "* **Something else entirely?**\n",
            "\n",
            "\n",
            "Please provide more information so I can help you!\n",
            "\n",
            "User: who won the icc t20 world cup in 2019\n",
            "Assistant: **England** won the ICC T20 World Cup in 2019. \n",
            "\n",
            "User: who was the man of the match\n",
            "Assistant: Please provide me with the context! \n",
            "\n",
            "I need to know what match you're referring to in order to tell you who the man of the match was. \n",
            "\n",
            "For example, tell me:\n",
            "\n",
            "* **What sport was the match?** (e.g., football, cricket, basketball)\n",
            "* **Who were the teams playing?**\n",
            "* **When did the match take place?** \n",
            "\n",
            "\n",
            "Let me know, and I'll do my best to find the answer! \n",
            "\n",
            "User: quit\n",
            "Goodbye!\n"
          ]
        }
      ]
    },
    {
      "cell_type": "markdown",
      "source": [
        "## Adding Tools"
      ],
      "metadata": {
        "id": "MznZ1HNgjL3R"
      }
    },
    {
      "cell_type": "code",
      "source": [
        "from langchain_community.tools.tavily_search import TavilySearchResults\n",
        "from langgraph.prebuilt import ToolNode, tools_condition"
      ],
      "metadata": {
        "id": "0AiZKMM6jOo9"
      },
      "execution_count": 19,
      "outputs": []
    },
    {
      "cell_type": "code",
      "source": [
        "class State(TypedDict):\n",
        "    # Messages have the type \"list\". The `add_messages` function\n",
        "    # in the annotation defines how this state key should be updated\n",
        "    # (in this case, it appends messages to the list, rather than overwriting them)\n",
        "    messages: Annotated[list, add_messages]\n",
        "\n",
        "\n",
        "graph_tool_builder = StateGraph(State)\n",
        "\n",
        "from langchain_groq import ChatGroq\n",
        "\n",
        "llm = ChatGroq(model=\"gemma2-9b-it\",\n",
        "               temperature=0,\n",
        "               max_tokens=256,\n",
        "               max_retries=2)"
      ],
      "metadata": {
        "id": "-Mzex52Ejgip"
      },
      "execution_count": 20,
      "outputs": []
    },
    {
      "cell_type": "code",
      "source": [
        "os.environ['TAVILY_API_KEY'] = getpass(\"TAVILY_API_KEY\")"
      ],
      "metadata": {
        "id": "-ac2-OdSjv0B",
        "colab": {
          "base_uri": "https://localhost:8080/"
        },
        "outputId": "6c3c64f6-5448-4edb-c98e-9a7caa557259"
      },
      "execution_count": 22,
      "outputs": [
        {
          "name": "stdout",
          "output_type": "stream",
          "text": [
            "TAVILY_API_KEY··········\n"
          ]
        }
      ]
    },
    {
      "cell_type": "code",
      "source": [
        "tool = TavilySearchResults(max_results=2)\n",
        "tools = [tool]"
      ],
      "metadata": {
        "id": "fA3vLU-MjrI3"
      },
      "execution_count": 23,
      "outputs": []
    },
    {
      "cell_type": "code",
      "source": [
        "llm_with_tools = llm.bind_tools(tools)\n",
        "\n",
        "def chatbot_with_tools(state: State):\n",
        "    return {\"messages\": [llm_with_tools.invoke(state[\"messages\"])]}"
      ],
      "metadata": {
        "id": "kU--Ot8ldC6m"
      },
      "execution_count": 24,
      "outputs": []
    },
    {
      "cell_type": "code",
      "source": [
        "graph_tool_builder.add_node(\"chatbotWithTools\", chatbot_with_tools)\n",
        "\n",
        "tool_node = ToolNode(tools=[tool])\n",
        "graph_tool_builder.add_node(\"tools\", tool_node)\n",
        "\n",
        "graph_tool_builder.add_conditional_edges(\n",
        "    \"chatbotWithTools\",\n",
        "    tools_condition,\n",
        ")\n",
        "# Any time a tool is called, we return to the chatbot to decide the next step\n",
        "graph_tool_builder.add_edge(\"tools\", \"chatbotWithTools\")\n",
        "graph_tool_builder.set_entry_point(\"chatbotWithTools\")\n",
        "tool_graph = graph_tool_builder.compile()"
      ],
      "metadata": {
        "id": "4l0GKo1Kj6fS"
      },
      "execution_count": 25,
      "outputs": []
    },
    {
      "cell_type": "code",
      "source": [
        "from IPython.display import Image, display\n",
        "\n",
        "try:\n",
        "    display(Image(tool_graph.get_graph().draw_mermaid_png()))\n",
        "except Exception:\n",
        "    # This requires some extra dependencies and is optional\n",
        "    pass"
      ],
      "metadata": {
        "colab": {
          "base_uri": "https://localhost:8080/",
          "height": 266
        },
        "id": "22J83LLckCOY",
        "outputId": "a0059bea-e5a6-43cf-d715-63eba050e300"
      },
      "execution_count": 26,
      "outputs": [
        {
          "output_type": "display_data",
          "data": {
            "image/png": "[encoded data removed]",
            "text/plain": [
              "<IPython.core.display.Image object>"
            ]
          },
          "metadata": {}
        }
      ]
    },
    {
      "cell_type": "code",
      "source": [
        "while True:\n",
        "    try:\n",
        "        user_input = input(\"User: \")\n",
        "        if user_input.lower() in [\"quit\", \"exit\", \"q\"]:\n",
        "            print(\"Goodbye!\")\n",
        "            break\n",
        "\n",
        "#        print(\"User: \" + user_input)\n",
        "        response = tool_graph.invoke({\"messages\": [{\"role\": \"user\", \"content\": user_input}]})\n",
        "        print(\"Assistant:\", response['messages'][-1].content)\n",
        "#        print(\"Assistant:\", response['messages'])\n",
        "\n",
        "    except:\n",
        "        break"
      ],
      "metadata": {
        "colab": {
          "base_uri": "https://localhost:8080/"
        },
        "id": "t9l2AuGZkGKr",
        "outputId": "c47104ea-73b3-4d03-94ab-6be0a3c81101"
      },
      "execution_count": 27,
      "outputs": [
        {
          "output_type": "stream",
          "name": "stdout",
          "text": [
            "User: who won the t20 world cup in 2025\n",
            "Assistant: India \n",
            "\n",
            "User: who was the man of the match\n",
            "Assistant: Raphinha \n",
            "\n",
            "User: quit\n",
            "Goodbye!\n"
          ]
        }
      ]
    },
    {
      "cell_type": "markdown",
      "source": [
        "## Adding Memory to Graph"
      ],
      "metadata": {
        "id": "suAIiP80m4nk"
      }
    },
    {
      "cell_type": "code",
      "source": [
        "from langgraph.checkpoint.memory import MemorySaver\n",
        "\n",
        "memory = MemorySaver()"
      ],
      "metadata": {
        "id": "tExGzw3bkt-M"
      },
      "execution_count": 28,
      "outputs": []
    },
    {
      "cell_type": "code",
      "source": [
        "graph_tool_builder = StateGraph(State)\n",
        "\n",
        "graph_tool_builder.add_node(\"chatbotWithTools\", chatbot_with_tools)\n",
        "\n",
        "tool_node = ToolNode(tools=[tool])\n",
        "graph_tool_builder.add_node(\"tools\", tool_node)\n",
        "\n",
        "graph_tool_builder.add_conditional_edges(\n",
        "    \"chatbotWithTools\",\n",
        "    tools_condition,\n",
        ")\n",
        "# Any time a tool is called, we return to the chatbot to decide the next step\n",
        "graph_tool_builder.add_edge(\"tools\", \"chatbotWithTools\")\n",
        "graph_tool_builder.set_entry_point(\"chatbotWithTools\")\n",
        "tool_graph = graph_tool_builder.compile(checkpointer=memory)"
      ],
      "metadata": {
        "id": "-vN-uqQCm7nw"
      },
      "execution_count": 29,
      "outputs": []
    },
    {
      "cell_type": "code",
      "source": [
        "config = {\"configurable\": {\"thread_id\": \"1\"}}"
      ],
      "metadata": {
        "id": "efh4-yR9nMIe"
      },
      "execution_count": 30,
      "outputs": []
    },
    {
      "cell_type": "code",
      "source": [
        "while True:\n",
        "    try:\n",
        "        user_input = input(\"User: \")\n",
        "        if user_input.lower() in [\"quit\", \"exit\", \"q\"]:\n",
        "            print(\"Goodbye!\")\n",
        "            break\n",
        "\n",
        "#        print(\"User: \" + user_input)\n",
        "        response = tool_graph.invoke({\"messages\": [{\"role\": \"user\", \"content\": user_input}]}, config)\n",
        "        print(\"Assistant:\", response['messages'][-1].content)\n",
        "#        print(\"Assistant:\", response['messages'])\n",
        "\n",
        "    except:\n",
        "        break"
      ],
      "metadata": {
        "colab": {
          "base_uri": "https://localhost:8080/"
        },
        "id": "QM36mtmInfO9",
        "outputId": "3bf689cd-d83a-4b3b-d877-e3cca31851f1"
      },
      "execution_count": 31,
      "outputs": [
        {
          "output_type": "stream",
          "name": "stdout",
          "text": [
            "User: who won the t20 world cup in 2025\n",
            "Assistant: India \n",
            "\n",
            "User: who was the man of the match\n",
            "Assistant: Rohit Sharma \n",
            "\n",
            "User: quit\n",
            "Goodbye!\n"
          ]
        }
      ]
    }
  ]
}