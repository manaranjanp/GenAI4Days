{
  "cells": [
    {
      "cell_type": "markdown",
      "metadata": {
        "id": "XoJ-RGiUo-uJ"
      },
      "source": [
        "# Langchain: The basics\n",
        "\n",
        "#### Developed By: Manaranjan Pradhan\n",
        "#### www.manaranjanp.com\n",
        "\n",
        "*This Jupyter notebook is confidential and proprietary to Manaranjan Pradhan. It is intended solely for authorized training purposes. Unauthorized distribution, sharing, or reproduction of this notebook or its contents is strictly prohibited. This material is for personal learning within the training program only and may not be used for commercial purposes or shared with others. Unauthorized use may result in disciplinary action or legal consequences. If you have received this notebook without authorization, please contact manaranjan@gmail.com immediately and delete all copies.*"
      ]
    },
    {
      "cell_type": "markdown",
      "source": [],
      "metadata": {
        "id": "cYFgUdFK3u_R"
      }
    },
    {
      "cell_type": "code",
      "execution_count": 1,
      "metadata": {
        "colab": {
          "base_uri": "https://localhost:8080/"
        },
        "id": "8RSTxnoIozRN",
        "outputId": "70b57770-c3f3-4966-f499-65e1885523a0"
      },
      "outputs": [
        {
          "output_type": "stream",
          "name": "stdout",
          "text": [
            "\u001b[2K   \u001b[90m━━━━━━━━━━━━━━━━━━━━━━━━━━━━━━━━━━━━━━━━\u001b[0m \u001b[32m70.4/70.4 kB\u001b[0m \u001b[31m2.4 MB/s\u001b[0m eta \u001b[36m0:00:00\u001b[0m\n",
            "\u001b[2K   \u001b[90m━━━━━━━━━━━━━━━━━━━━━━━━━━━━━━━━━━━━━━━━\u001b[0m \u001b[32m130.8/130.8 kB\u001b[0m \u001b[31m8.2 MB/s\u001b[0m eta \u001b[36m0:00:00\u001b[0m\n",
            "\u001b[?25h"
          ]
        }
      ],
      "source": [
        "!pip -q install openai langchain langchain_openai langchain-groq"
      ]
    },
    {
      "cell_type": "code",
      "execution_count": 2,
      "metadata": {
        "id": "BHeaKh917qIX"
      },
      "outputs": [],
      "source": [
        "import os\n",
        "from getpass import getpass"
      ]
    },
    {
      "cell_type": "code",
      "execution_count": 3,
      "metadata": {
        "id": "9iIacDfgpB2M",
        "colab": {
          "base_uri": "https://localhost:8080/"
        },
        "outputId": "db09542d-ff88-4b3e-85de-dc6b88ba5587"
      },
      "outputs": [
        {
          "name": "stdout",
          "output_type": "stream",
          "text": [
            "Enter your Groq API key: ··········\n"
          ]
        }
      ],
      "source": [
        "#os.environ['OPENAI_API_KEY'] = getpass('OPENAI_API_KEY')\n",
        "os.environ[\"GROQ_API_KEY\"] = getpass(\"Enter your Groq API key: \")"
      ]
    },
    {
      "cell_type": "markdown",
      "metadata": {
        "id": "-KB9qA8bpxgJ"
      },
      "source": [
        "## Zero Shot Prompting\n",
        "\n"
      ]
    },
    {
      "cell_type": "code",
      "execution_count": 13,
      "metadata": {
        "id": "-lzO5PfUpwfv"
      },
      "outputs": [],
      "source": [
        "from langchain_openai import ChatOpenAI\n",
        "from langchain_groq import ChatGroq\n",
        "from langchain.chains import LLMChain"
      ]
    },
    {
      "cell_type": "code",
      "source": [
        "llm = ChatGroq(\n",
        "    model=\"llama-3.3-70b-versatile\",\n",
        "    temperature=0,\n",
        "    max_tokens=256,\n",
        "    max_retries=2,\n",
        ")"
      ],
      "metadata": {
        "id": "gdOLE4RI4K-B"
      },
      "execution_count": 5,
      "outputs": []
    },
    {
      "cell_type": "code",
      "execution_count": 6,
      "metadata": {
        "colab": {
          "base_uri": "https://localhost:8080/"
        },
        "id": "WCBfxD4cqXsx",
        "outputId": "517d19cf-b30c-408a-9e72-dac26c9fcb84"
      },
      "outputs": [
        {
          "output_type": "stream",
          "name": "stdout",
          "text": [
            "content='Sentiment: Positive. The customer uses words like \"fresh\", \"flavorful\", and \"loved\" to describe their experience, indicating a positive sentiment.' additional_kwargs={} response_metadata={'token_usage': {'completion_tokens': 34, 'prompt_tokens': 80, 'total_tokens': 114, 'completion_time': 0.123636364, 'prompt_time': 0.003749288, 'queue_time': 0.199219914, 'total_time': 0.127385652}, 'model_name': 'llama-3.3-70b-versatile', 'system_fingerprint': 'fp_6507bcfb6f', 'finish_reason': 'stop', 'logprobs': None} id='run--8c4ccec1-9a50-4a94-9079-c217071a957a-0' usage_metadata={'input_tokens': 80, 'output_tokens': 34, 'total_tokens': 114}\n"
          ]
        }
      ],
      "source": [
        "text = \"\"\"What is the sentiment of the customer review given below? It should be a positive or negative sentiment.\n",
        "\n",
        "review: The seafood platter was fresh and flavorful. Loved the chic décor and the ambiance of the place.\n",
        "Sentiment:\"\"\"\n",
        "\n",
        "print(llm.invoke(text))"
      ]
    },
    {
      "cell_type": "markdown",
      "source": [
        "## Classifying List of Reviews"
      ],
      "metadata": {
        "id": "LGpX2l9ZRxG6"
      }
    },
    {
      "cell_type": "code",
      "execution_count": 46,
      "metadata": {
        "id": "qB3E-mPeYkH-"
      },
      "outputs": [],
      "source": [
        "reviews = [\n",
        "    \"The seafood platter was fresh and flavorful. Loved the chic décor and the ambiance of the place.\",\n",
        "    \"Impressive service! The staff was attentive and made excellent recommendations. Thoroughly enjoyed the evening.\",\n",
        "    \"The restaurant's interior was a visual treat, beautifully paired with their gourmet dishes. A delightful experience!\",\n",
        "    \"The food tasted alright, but the tables were not very clean, which was off-putting.\",\n",
        "    \"Waited 30 minutes even with a reservation, and the main course was served cold. Disappointing visit.\"\n",
        "]"
      ]
    },
    {
      "cell_type": "markdown",
      "metadata": {
        "id": "xidOhWp7rk_5"
      },
      "source": [
        "## Using Prompt Templates"
      ]
    },
    {
      "cell_type": "code",
      "execution_count": 47,
      "metadata": {
        "id": "NYo3Vs9_81eH"
      },
      "outputs": [],
      "source": [
        "from langchain import PromptTemplate"
      ]
    },
    {
      "cell_type": "code",
      "execution_count": 48,
      "metadata": {
        "id": "dWFJY6-Qrm0L"
      },
      "outputs": [],
      "source": [
        "sentiment_template = \"\"\"\n",
        "What is the sentiment of the customer review given below? It should be a positive or negative sentiment.\n",
        "\n",
        "review: {review_text}\n",
        "Sentiment:\n",
        "\"\"\"\n",
        "\n",
        "review_prompt = PromptTemplate(\n",
        "    input_variables=[\"review_text\"],\n",
        "    template=sentiment_template,\n",
        ")"
      ]
    },
    {
      "cell_type": "markdown",
      "source": [
        "### Generating Prompt with Templates"
      ],
      "metadata": {
        "id": "kO8aFjinR3dw"
      }
    },
    {
      "cell_type": "code",
      "execution_count": 49,
      "metadata": {
        "colab": {
          "base_uri": "https://localhost:8080/"
        },
        "id": "PM66jyMI_1WX",
        "outputId": "e18169ca-09d9-4b4e-ec83-a26f71d1c755"
      },
      "outputs": [
        {
          "output_type": "stream",
          "name": "stdout",
          "text": [
            "\n",
            "What is the sentiment of the customer review given below? It should be a positive or negative sentiment.\n",
            "\n",
            "review: The seafood platter was fresh and flavorful. Loved the chic décor and the ambiance of the place.\n",
            "Sentiment:\n",
            "\n"
          ]
        }
      ],
      "source": [
        "print(review_prompt.format(review_text=reviews[0]))"
      ]
    },
    {
      "cell_type": "markdown",
      "source": [
        "### Calling LLM with the prompt template"
      ],
      "metadata": {
        "id": "69pnIZhvScUg"
      }
    },
    {
      "cell_type": "code",
      "execution_count": 34,
      "metadata": {
        "id": "KtuuvvmTayhz"
      },
      "outputs": [],
      "source": [
        "sentiment_chain = review_prompt | llm"
      ]
    },
    {
      "cell_type": "code",
      "execution_count": 35,
      "metadata": {
        "colab": {
          "base_uri": "https://localhost:8080/",
          "height": 35
        },
        "id": "g3NQmLASAJ0-",
        "outputId": "adc7b025-eed5-411a-9388-12298bbfaab3"
      },
      "outputs": [
        {
          "output_type": "execute_result",
          "data": {
            "text/plain": [
              "'Sentiment: Positive'"
            ],
            "application/vnd.google.colaboratory.intrinsic+json": {
              "type": "string"
            }
          },
          "metadata": {},
          "execution_count": 35
        }
      ],
      "source": [
        "response = sentiment_chain.invoke({\"review_text\": reviews[0]})\n",
        "\n",
        "response.content"
      ]
    },
    {
      "cell_type": "code",
      "execution_count": 36,
      "metadata": {
        "colab": {
          "base_uri": "https://localhost:8080/"
        },
        "id": "TEOvuOP0AgJ_",
        "outputId": "25e99214-2a79-4aec-dc21-fbf40daed054"
      },
      "outputs": [
        {
          "output_type": "stream",
          "name": "stdout",
          "text": [
            "================================\n",
            "\n",
            "What is the sentiment of the customer review given below? It should be a positive or negative sentiment.\n",
            "\n",
            "review: The seafood platter was fresh and flavorful. Loved the chic décor and the ambiance of the place.\n",
            "Sentiment:\n",
            "\n",
            "Sentiment: Positive\n",
            "================================\n",
            "\n",
            "What is the sentiment of the customer review given below? It should be a positive or negative sentiment.\n",
            "\n",
            "review: Impressive service! The staff was attentive and made excellent recommendations. Thoroughly enjoyed the evening.\n",
            "Sentiment:\n",
            "\n",
            "Sentiment: Positive\n",
            "================================\n",
            "\n",
            "What is the sentiment of the customer review given below? It should be a positive or negative sentiment.\n",
            "\n",
            "review: The restaurant's interior was a visual treat, beautifully paired with their gourmet dishes. A delightful experience!\n",
            "Sentiment:\n",
            "\n",
            "Sentiment: Positive\n",
            "================================\n",
            "\n",
            "What is the sentiment of the customer review given below? It should be a positive or negative sentiment.\n",
            "\n",
            "review: The food tasted alright, but the tables were not very clean, which was off-putting.\n",
            "Sentiment:\n",
            "\n",
            "Sentiment: Negative\n",
            "\n",
            "Although the customer mentions that the food \"tasted alright\", which is a neutral comment, the negative aspect of the unclean tables outweighs this, resulting in an overall negative sentiment.\n",
            "================================\n",
            "\n",
            "What is the sentiment of the customer review given below? It should be a positive or negative sentiment.\n",
            "\n",
            "review: Waited 30 minutes even with a reservation, and the main course was served cold. Disappointing visit.\n",
            "Sentiment:\n",
            "\n",
            "Sentiment: Negative\n",
            "================================\n"
          ]
        }
      ],
      "source": [
        "print(\"================================\")\n",
        "\n",
        "for review in reviews:\n",
        "    print(review_prompt.format(review_text=review))\n",
        "    response = sentiment_chain.invoke({\"review_text\": review})\n",
        "    print(response.content)\n",
        "    print(\"================================\")"
      ]
    },
    {
      "cell_type": "markdown",
      "metadata": {
        "id": "3aiOsgwJX_Ol"
      },
      "source": [
        "## Classifying Categories"
      ]
    },
    {
      "cell_type": "code",
      "source": [
        "category_template = \"\"\"\n",
        "Classify the reviews into one the four categories as given in the examples.\n",
        "\n",
        "review: The grilled chicken was seasoned to perfection and simply melted in the mouth.\n",
        "category: Food Quality\n",
        "\n",
        "review: Despite the crowd, the place was immaculately clean and the restrooms were spotless.\n",
        "category: Overall Hygiene\n",
        "\n",
        "review: The dim lighting and soothing jazz music provided an intimate and romantic setting.\n",
        "category: Restaurant Ambience\n",
        "\n",
        "review: We were kept waiting for our table even after a confirmed reservation and the staff seemed disinterested.\n",
        "category: Customer Service\n",
        "\n",
        "review: {review_text}\n",
        "Sentiment:\n",
        "\"\"\"\n",
        "\n",
        "category_prompt = PromptTemplate(\n",
        "    input_variables=[\"review_text\"],\n",
        "    template=category_template,\n",
        ")"
      ],
      "metadata": {
        "id": "VV7jeG6rTozd"
      },
      "execution_count": 38,
      "outputs": []
    },
    {
      "cell_type": "code",
      "execution_count": 39,
      "metadata": {
        "colab": {
          "base_uri": "https://localhost:8080/"
        },
        "id": "eJuHdj9wxNFq",
        "outputId": "4c6a1f04-ca0f-4131-8d4f-90aebf9b0497"
      },
      "outputs": [
        {
          "output_type": "stream",
          "name": "stdout",
          "text": [
            "\n",
            "Classify the reviews into one the four categories as given in the examples.\n",
            "\n",
            "review: The grilled chicken was seasoned to perfection and simply melted in the mouth.\n",
            "category: Food Quality\n",
            "\n",
            "review: Despite the crowd, the place was immaculately clean and the restrooms were spotless.\n",
            "category: Overall Hygiene\n",
            "\n",
            "review: The dim lighting and soothing jazz music provided an intimate and romantic setting.\n",
            "category: Restaurant Ambience\n",
            "\n",
            "review: We were kept waiting for our table even after a confirmed reservation and the staff seemed disinterested.\n",
            "category: Customer Service\n",
            "\n",
            "review: The seafood platter was fresh and flavorful. Loved the chic décor and the ambiance of the place.\n",
            "Sentiment:\n",
            "\n"
          ]
        }
      ],
      "source": [
        "# We can now generate a prompt using the `format` method.\n",
        "print(category_prompt.format(review_text=reviews[0]))"
      ]
    },
    {
      "cell_type": "code",
      "execution_count": 43,
      "metadata": {
        "id": "pDC56SM8FEzu"
      },
      "outputs": [],
      "source": [
        "category_chain = category_prompt | llm"
      ]
    },
    {
      "cell_type": "code",
      "source": [
        "# Run the chain only specifying the input variable.\n",
        "response = category_chain.invoke({\"review_text\": reviews[0]})\n",
        "\n",
        "response.content"
      ],
      "metadata": {
        "colab": {
          "base_uri": "https://localhost:8080/",
          "height": 89
        },
        "id": "f60PZkFKVDVX",
        "outputId": "bfe0acda-8256-4156-c264-f7c08bf1958d"
      },
      "execution_count": 45,
      "outputs": [
        {
          "output_type": "execute_result",
          "data": {
            "text/plain": [
              "'The review mentions both the food (\"The seafood platter was fresh and flavorful\") and the ambiance (\"Loved the chic décor and the ambiance of the place\"), but since it touches on two categories, the most prominent one seems to be the overall appreciation of the place which includes food and ambiance. However, given the options and the fact that it specifically talks about \"chic décor and the ambiance,\" it leans more towards:\\n\\ncategory: Restaurant Ambience'"
            ],
            "application/vnd.google.colaboratory.intrinsic+json": {
              "type": "string"
            }
          },
          "metadata": {},
          "execution_count": 45
        }
      ]
    },
    {
      "cell_type": "code",
      "execution_count": null,
      "metadata": {
        "colab": {
          "base_uri": "https://localhost:8080/"
        },
        "id": "b46zmyJZYNYC",
        "outputId": "461378f5-8475-4f8c-b3db-03211037c93e"
      },
      "outputs": [
        {
          "output_type": "stream",
          "name": "stdout",
          "text": [
            "The seafood platter was fresh and flavorful. Loved the chic décor and the ambiance of the place.\n",
            "Based on the given examples, this review can be classified into two categories, but since it has to be classified into one, I would choose: \n",
            "\n",
            "Category: Food Quality \n",
            "\n",
            "Reason: Although the review mentions the ambiance, the primary focus is on the food (\"The seafood platter was fresh and flavorful\").\n",
            "================================\n",
            "Impressive service! The staff was attentive and made excellent recommendations. Thoroughly enjoyed the evening.\n",
            "Category: Customer Service\n",
            "================================\n",
            "The restaurant's interior was a visual treat, beautifully paired with their gourmet dishes. A delightful experience!\n",
            "Based on the given examples, I would categorize the review as:\n",
            "\n",
            "Category: Restaurant Ambience\n",
            "\n",
            "The review mentions the restaurant's interior and the visual appeal, which aligns with the \"Restaurant Ambience\" category. Although it also mentions the gourmet dishes, the primary focus is on the ambiance and the overall experience, rather than just the food quality.\n",
            "================================\n",
            "The food tasted alright, but the tables were not very clean, which was off-putting.\n",
            "Category: Overall Hygiene\n",
            "================================\n",
            "Waited 30 minutes even with a reservation, and the main course was served cold. Disappointing visit.\n",
            "Based on the given examples, I would categorize the review as:\n",
            "\n",
            "Category: Customer Service\n",
            "\n",
            "The review mentions waiting for a table despite a confirmed reservation, which is related to the service provided by the staff. Additionally, the main course being served cold is also a service issue, as it is the responsibility of the staff to ensure that food is served properly.\n",
            "================================\n"
          ]
        }
      ],
      "source": [
        "for review in reviews:\n",
        "    print(review)\n",
        "    print(category_chain.run({\"review_text\": review}))\n",
        "    print(\"================================\")"
      ]
    },
    {
      "cell_type": "markdown",
      "metadata": {
        "id": "P21X9oOrVPwb"
      },
      "source": [
        "## Chaining Multiple Prompts"
      ]
    },
    {
      "cell_type": "code",
      "execution_count": 54,
      "metadata": {
        "id": "4g5Dd0U3xHS_"
      },
      "outputs": [],
      "source": [
        "response_to_customer = \"\"\"\n",
        "\"Write an appropriate and concise response to the customer by either appreciating their positive experience or adressing the specific concern that customer might\n",
        "have mentioned in the feedback below.\n",
        "\n",
        "<feedback>\n",
        "{feedback}\n",
        "</feedback>\n",
        "\n",
        "The feedback is about {category}.\n",
        "\n",
        "The goal of the response is to ensure customer engagement.\n",
        "\"\"\""
      ]
    },
    {
      "cell_type": "code",
      "execution_count": 55,
      "metadata": {
        "id": "Vkracy1OvsU7"
      },
      "outputs": [],
      "source": [
        "response_prompt = PromptTemplate(\n",
        "    input_variables=[\"feedback\", \"category\"],\n",
        "    template=response_to_customer,\n",
        ")"
      ]
    },
    {
      "cell_type": "code",
      "execution_count": 56,
      "metadata": {
        "id": "P-VEWxPUzVOR"
      },
      "outputs": [],
      "source": [
        "final_response_chain = response_prompt | llm"
      ]
    },
    {
      "cell_type": "code",
      "execution_count": 57,
      "metadata": {
        "id": "JShSwOmhxZ6K"
      },
      "outputs": [],
      "source": [
        "complete_chain = (\n",
        "    {\n",
        "        \"feedback\": sentiment_chain,\n",
        "        \"category\": category_chain,\n",
        "    }\n",
        "    | final_response_chain\n",
        ")"
      ]
    },
    {
      "cell_type": "code",
      "execution_count": 58,
      "metadata": {
        "id": "3mLGrv_b0r0s"
      },
      "outputs": [],
      "source": [
        "from pprint import pprint"
      ]
    },
    {
      "cell_type": "code",
      "execution_count": 59,
      "metadata": {
        "colab": {
          "base_uri": "https://localhost:8080/",
          "height": 35
        },
        "id": "hXIeTzHOWMl8",
        "outputId": "ce715348-d6ac-4683-a2fd-cabd1baca69d"
      },
      "outputs": [
        {
          "output_type": "execute_result",
          "data": {
            "text/plain": [
              "'The food tasted alright, but the tables were not very clean, which was off-putting.'"
            ],
            "application/vnd.google.colaboratory.intrinsic+json": {
              "type": "string"
            }
          },
          "metadata": {},
          "execution_count": 59
        }
      ],
      "source": [
        "reviews[3]"
      ]
    },
    {
      "cell_type": "code",
      "execution_count": 62,
      "metadata": {
        "id": "dh24RaUwyMRE"
      },
      "outputs": [],
      "source": [
        "response = complete_chain.invoke({\"review_text\": reviews[4]})"
      ]
    },
    {
      "cell_type": "code",
      "execution_count": 63,
      "metadata": {
        "id": "W0tFkUFSyTGs",
        "colab": {
          "base_uri": "https://localhost:8080/"
        },
        "outputId": "be288cf2-76b4-485e-daa9-0bea747a0eac"
      },
      "outputs": [
        {
          "output_type": "stream",
          "name": "stdout",
          "text": [
            "('I apologize for the disappointing experience you had at our restaurant. We '\n",
            " 'fell short of our standards by not seating you promptly with a confirmed '\n",
            " 'reservation and serving your main course cold. I want to assure you that we '\n",
            " 'take these issues seriously and will address them with our staff to prevent '\n",
            " 'such incidents in the future. Can you please contact us directly so we can '\n",
            " 'make things right and provide a better experience for you? Your feedback is '\n",
            " 'invaluable in helping us improve our customer service.')\n"
          ]
        }
      ],
      "source": [
        "pprint(response.content)"
      ]
    },
    {
      "cell_type": "code",
      "source": [],
      "metadata": {
        "id": "msV2MRZnVvzd"
      },
      "execution_count": null,
      "outputs": []
    }
  ],
  "metadata": {
    "colab": {
      "provenance": []
    },
    "kernelspec": {
      "display_name": "Python 3 (ipykernel)",
      "language": "python",
      "name": "python3"
    },
    "language_info": {
      "codemirror_mode": {
        "name": "ipython",
        "version": 3
      },
      "file_extension": ".py",
      "mimetype": "text/x-python",
      "name": "python",
      "nbconvert_exporter": "python",
      "pygments_lexer": "ipython3",
      "version": "3.10.9"
    }
  },
  "nbformat": 4,
  "nbformat_minor": 0
}